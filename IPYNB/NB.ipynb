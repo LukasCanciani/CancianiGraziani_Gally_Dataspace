{
 "cells": [
  {
   "cell_type": "code",
   "execution_count": null,
   "id": "abd04bdc",
   "metadata": {},
   "outputs": [],
   "source": [
    "import numpy as np\n",
    "import pandas as pd\n",
    "\n",
    "from sklearn.naive_bayes import GaussianNB\n",
    "from sklearn.model_selection import StratifiedKFold\n",
    "from sklearn.metrics import f1_score, precision_score, recall_score\n",
    "\n",
    "from imblearn.over_sampling import SMOTE"
   ]
  },
  {
   "cell_type": "code",
   "execution_count": null,
   "id": "629a77aa",
   "metadata": {},
   "outputs": [],
   "source": [
    "df = pd.read_csv(\"wine.csv\", delimiter=\";\")\n",
    "del df[\"ash\"]\n",
    "X = df.loc[:, df.columns != \"class\"]\n",
    "y = df[\"class\"]"
   ]
  },
  {
   "cell_type": "code",
   "execution_count": null,
   "id": "07360e25",
   "metadata": {
    "scrolled": true
   },
   "outputs": [],
   "source": [
    "kf = StratifiedKFold(n_splits=5)\n",
    "acc = []\n",
    "prec =[]\n",
    "rec = []\n",
    "f1 = []\n",
    "for fold, (train_index, test_index) in enumerate(kf.split(X, y), 1):  \n",
    "    y_train = y[train_index]  \n",
    "    X_train = X.iloc[train_index]\n",
    "    X_test = X.iloc[test_index]\n",
    "    y_test = y[test_index]  \n",
    "    model = GaussianNB()\n",
    "    model.fit(X_train, y_train )  \n",
    "    y_pred = model.predict(X_test)\n",
    "   \n",
    "    acc.append(model.score(X_test, y_test))\n",
    "    prec.append(precision_score(y_test, y_pred,average=\"weighted\",labels=np.unique(y_pred)))\n",
    "    rec.append(recall_score(y_test, y_pred,average=\"weighted\",labels=np.unique(y_pred)))\n",
    "    f1.append(f1_score(y_test, y_pred,average=\"weighted\",labels=np.unique(y_pred)))\n",
    "    \n",
    "print(\"Average scores for 5 fold CV - Without SMOTE\")\n",
    "print(\"Accuracy: \" + str(np.mean(acc).round(3)))\n",
    "print(\"Weighted Precision: \" + str(np.mean(prec).round(3)))\n",
    "print(\"Weighted Recall:    \" + str(np.mean(rec).round(3)))\n",
    "print(\"Weighted F1-Score:  \" + str(np.mean(f1).round(3)))"
   ]
  },
  {
   "cell_type": "code",
   "execution_count": null,
   "id": "05d09861",
   "metadata": {},
   "outputs": [],
   "source": [
    "kf = StratifiedKFold(n_splits=5)\n",
    "acc = []\n",
    "prec =[]\n",
    "rec = []\n",
    "f1 = []\n",
    "for fold, (train_index, test_index) in enumerate(kf.split(X, y), 1):  \n",
    "    y_train = y[train_index]  \n",
    "    X_train = X.iloc[train_index]\n",
    "    X_test = X.iloc[test_index]\n",
    "    y_test = y[test_index]  \n",
    "    \n",
    "    sm = SMOTE()\n",
    "    X_train_oversampled, y_train_oversampled = sm.fit_resample(X_train, y_train)\n",
    "  \n",
    "    model = GaussianNB()\n",
    "    model.fit(X_train_oversampled, y_train_oversampled )  \n",
    "    y_pred = model.predict(X_test)\n",
    "   \n",
    "    acc.append(model.score(X_test, y_test))\n",
    "    prec.append(precision_score(y_test, y_pred,average=\"weighted\",labels=np.unique(y_pred)))\n",
    "    rec.append(recall_score(y_test, y_pred,average=\"weighted\",labels=np.unique(y_pred)))\n",
    "    f1.append(f1_score(y_test, y_pred,average=\"weighted\",labels=np.unique(y_pred)))\n",
    "    \n",
    "print(\"Average scores for 5 fold CV - With SMOTE\")\n",
    "print(\"Accuracy: \" + str(np.mean(acc).round(3)))\n",
    "print(\"Weighted Precision: \" + str(np.mean(prec).round(3)))\n",
    "print(\"Weighted Recall:    \" + str(np.mean(rec).round(3)))\n",
    "print(\"Weighted F1-Score:  \" + str(np.mean(f1).round(3)))"
   ]
  }
 ],
 "metadata": {
  "kernelspec": {
   "display_name": "Python 3",
   "language": "python",
   "name": "python3"
  },
  "language_info": {
   "codemirror_mode": {
    "name": "ipython",
    "version": 3
   },
   "file_extension": ".py",
   "mimetype": "text/x-python",
   "name": "python",
   "nbconvert_exporter": "python",
   "pygments_lexer": "ipython3",
   "version": "3.9.4"
  }
 },
 "nbformat": 4,
 "nbformat_minor": 5
}
