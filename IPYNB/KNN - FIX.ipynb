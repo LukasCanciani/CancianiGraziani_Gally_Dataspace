{
 "cells": [
  {
   "cell_type": "code",
   "execution_count": 28,
   "id": "3429b555",
   "metadata": {},
   "outputs": [],
   "source": [
    "import numpy as np\n",
    "import pandas as pd\n",
    "\n",
    "from sklearn.neighbors import KNeighborsClassifier\n",
    "from sklearn.model_selection import StratifiedKFold, train_test_split\n",
    "from sklearn.metrics import f1_score, precision_score, recall_score, accuracy_score\n",
    "\n",
    "from imblearn.over_sampling import SMOTE"
   ]
  },
  {
   "cell_type": "code",
   "execution_count": 29,
   "id": "9b8f0bdc",
   "metadata": {},
   "outputs": [],
   "source": [
    "df = pd.read_csv(\"wine.csv\", delimiter=\";\")\n",
    "#display(df)\n",
    "del df[\"ash\"]\n",
    "#Norm\n",
    "\n",
    "numeric = [\"alcohol\", \"malic acid\",\"alcalinity\",\"magnesium\",\"total phenols\",\"flavanoids\",\"nonflavanoid phenols\",\"proanthocyanins\", \"color intensity\", \"hue\", \"od280/od315\", \"proline\"]\n",
    "for col in numeric:\n",
    "    min = df[col].min()\n",
    "    max = df[col].max()\n",
    "    df[col] = (2*(df[col] - min) / (max - min)) -1\n",
    "    \n",
    "#display(df)\n",
    "\n",
    "X = df.loc[:, df.columns != \"class\"]\n",
    "y = df[\"class\"]\n",
    "\n",
    "X_train, X_test, y_train, y_test = train_test_split(X, y, test_size = 0.3, random_state = 1)"
   ]
  },
  {
   "cell_type": "code",
   "execution_count": 30,
   "id": "9d4b9a9a",
   "metadata": {},
   "outputs": [
    {
     "name": "stdout",
     "output_type": "stream",
     "text": [
      "Best configuration WITH SMOTE:\n",
      "n                11.0\n",
      "w            distance\n",
      "m           euclidean\n",
      "accuracy         0.96\n",
      "Name: 10, dtype: object\n"
     ]
    }
   ],
   "source": [
    "n_neighbors = [3,5,11,19]\n",
    "weights = ['uniform','distance']\n",
    "metric = ['euclidean','manhattan']\n",
    "    \n",
    "scores_smote = pd.DataFrame({'n': [], 'w': [], 'm': []})\n",
    "for n in n_neighbors:\n",
    "    for w in weights:\n",
    "        for m in metric:\n",
    "            acc = []\n",
    "            clf = KNeighborsClassifier(n_neighbors = n, weights = w, metric = m)\n",
    "            kf = StratifiedKFold(n_splits=5)\n",
    "            for fold, (train_index, val_index) in enumerate(kf.split(X_train, y_train), 1):  \n",
    "                y_train_fold = y_train.iloc[train_index]  \n",
    "                X_train_fold = X_train.iloc[train_index]\n",
    "                X_val_fold = X_train.iloc[val_index]\n",
    "                y_val_fold = y_train.iloc[val_index]  \n",
    "    \n",
    "                sm = SMOTE()\n",
    "                X_train_fold_oversampled, y_train_fold_oversampled = sm.fit_resample(X_train_fold, y_train_fold)\n",
    "  \n",
    "                clf.fit(X_train_fold_oversampled, y_train_fold_oversampled )  \n",
    "                y_pred_fold = clf.predict(X_val_fold)\n",
    "                acc.append(accuracy_score(y_val_fold, y_pred_fold))\n",
    "            scores_smote = scores_smote.append(pd.Series({'n': n, 'w': w, 'm' : m, 'accuracy': np.mean(acc)}), ignore_index = True)\n",
    "best_config = scores_smote.iloc[scores_smote['accuracy'].idxmax()]\n",
    "print(f\"Best configuration WITH SMOTE:\\n{best_config}\")\n",
    "best_n = best_config['n']\n",
    "best_w = best_config['w']\n",
    "best_m = best_config['m']"
   ]
  },
  {
   "cell_type": "code",
   "execution_count": 31,
   "id": "ca66bb63",
   "metadata": {},
   "outputs": [
    {
     "name": "stdout",
     "output_type": "stream",
     "text": [
      "KNN EVALUATION WITH SMOTE\n",
      "Accuracy 0.944444\n",
      "Precision 0.950855\n",
      "Recall 0.944444\n",
      "F1-Score 0.943764\n"
     ]
    }
   ],
   "source": [
    "best_clf = KNeighborsClassifier(n_neighbors = int(best_n), weights = best_w, metric = best_m)\n",
    "\n",
    "sm = SMOTE()\n",
    "X_train_oversampled, y_train_oversampled = sm.fit_resample(X_train, y_train)\n",
    "best_clf.fit(X_train_oversampled, y_train_oversampled)\n",
    "\n",
    "y_pred = best_clf.predict(X_test)\n",
    "print(\"KNN EVALUATION WITH SMOTE\")\n",
    "print(\"Accuracy %f\"%accuracy_score(y_test, y_pred))\n",
    "print(\"Precision %f\"%precision_score(y_test, y_pred,average=\"weighted\",labels=np.unique(y_pred)))\n",
    "print(\"Recall %f\"%recall_score(y_test, y_pred,average=\"weighted\",labels=np.unique(y_pred)))\n",
    "print(\"F1-Score %f\"%f1_score(y_test, y_pred,average=\"weighted\",labels=np.unique(y_pred)))"
   ]
  },
  {
   "cell_type": "code",
   "execution_count": 32,
   "id": "52d0ae6e",
   "metadata": {
    "scrolled": true
   },
   "outputs": [
    {
     "name": "stdout",
     "output_type": "stream",
     "text": [
      "Best configuration WITHOUT SMOTE:\n",
      "n                11.0\n",
      "w             uniform\n",
      "m           manhattan\n",
      "accuracy        0.976\n",
      "Name: 9, dtype: object\n"
     ]
    }
   ],
   "source": [
    "n_neighbors = [3,5,11,19]\n",
    "weights = ['uniform','distance']\n",
    "metric = ['euclidean','manhattan']\n",
    "    \n",
    "scores_smote = pd.DataFrame({'n': [], 'w': [], 'm': []})\n",
    "for n in n_neighbors:\n",
    "    for w in weights:\n",
    "        for m in metric:\n",
    "            acc = []\n",
    "            clf = KNeighborsClassifier(n_neighbors = n, weights = w, metric = m)\n",
    "            kf = StratifiedKFold(n_splits=5)\n",
    "            for fold, (train_index, val_index) in enumerate(kf.split(X_train, y_train), 1):  \n",
    "                y_train_fold = y_train.iloc[train_index]  \n",
    "                X_train_fold = X_train.iloc[train_index]\n",
    "                X_val_fold = X_train.iloc[val_index]\n",
    "                y_val_fold = y_train.iloc[val_index]  \n",
    "    \n",
    "                clf.fit(X_train_fold, y_train_fold )  \n",
    "                y_pred_fold = clf.predict(X_val_fold)\n",
    "                acc.append(accuracy_score(y_val_fold, y_pred_fold))\n",
    "            scores_smote = scores_smote.append(pd.Series({'n': n, 'w': w, 'm' : m, 'accuracy': np.mean(acc)}), ignore_index = True)\n",
    "best_config = scores_smote.iloc[scores_smote['accuracy'].idxmax()]\n",
    "print(f\"Best configuration WITHOUT SMOTE:\\n{best_config}\")\n",
    "best_n = best_config['n']\n",
    "best_w = best_config['w']\n",
    "best_m = best_config['m']"
   ]
  },
  {
   "cell_type": "code",
   "execution_count": 33,
   "id": "0d81f6b8",
   "metadata": {},
   "outputs": [
    {
     "name": "stdout",
     "output_type": "stream",
     "text": [
      "KNN EVALUATION WITHOUT SMOTE\n",
      "Accuracy 0.981481\n",
      "Precision 0.982253\n",
      "Recall 0.981481\n",
      "F1-Score 0.981428\n"
     ]
    }
   ],
   "source": [
    "best_clf = KNeighborsClassifier(n_neighbors = int(best_n), weights = best_w, metric = best_m)\n",
    "best_clf.fit(X_train, y_train)\n",
    "y_pred = best_clf.predict(X_test)\n",
    "print(\"KNN EVALUATION WITHOUT SMOTE\")\n",
    "print(\"Accuracy %f\"%accuracy_score(y_test, y_pred))\n",
    "print(\"Precision %f\"%precision_score(y_test, y_pred,average=\"weighted\",labels=np.unique(y_pred)))\n",
    "print(\"Recall %f\"%recall_score(y_test, y_pred,average=\"weighted\",labels=np.unique(y_pred)))\n",
    "print(\"F1-Score %f\"%f1_score(y_test, y_pred,average=\"weighted\",labels=np.unique(y_pred)))"
   ]
  },
  {
   "cell_type": "code",
   "execution_count": null,
   "id": "c9071cb8",
   "metadata": {},
   "outputs": [],
   "source": []
  }
 ],
 "metadata": {
  "kernelspec": {
   "display_name": "Python 3",
   "language": "python",
   "name": "python3"
  },
  "language_info": {
   "codemirror_mode": {
    "name": "ipython",
    "version": 3
   },
   "file_extension": ".py",
   "mimetype": "text/x-python",
   "name": "python",
   "nbconvert_exporter": "python",
   "pygments_lexer": "ipython3",
   "version": "3.9.4"
  }
 },
 "nbformat": 4,
 "nbformat_minor": 5
}
