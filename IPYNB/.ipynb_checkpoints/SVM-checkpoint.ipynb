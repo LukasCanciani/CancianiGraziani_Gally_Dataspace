{
 "cells": [
  {
   "cell_type": "code",
   "execution_count": 19,
   "id": "680c1ecf",
   "metadata": {},
   "outputs": [],
   "source": [
    "import numpy as np\n",
    "import pandas as pd\n",
    "\n",
    "from sklearn.svm import SVC\n",
    "from sklearn.model_selection import StratifiedKFold, train_test_split\n",
    "from sklearn.metrics import f1_score, precision_score, recall_score, accuracy_score\n",
    "\n",
    "from imblearn.over_sampling import SMOTE"
   ]
  },
  {
   "cell_type": "code",
   "execution_count": 20,
   "id": "5037f9ab",
   "metadata": {},
   "outputs": [],
   "source": [
    "df = pd.read_csv(\"wine.csv\", delimiter=\";\")\n",
    "#display(df)\n",
    "del df[\"ash\"]\n",
    "\n",
    "#Norm\n",
    "numeric = [\"alcohol\", \"malic acid\",\"alcalinity\",\"magnesium\",\"total phenols\",\"flavanoids\",\"nonflavanoid phenols\",\"proanthocyanins\", \"color intensity\", \"hue\", \"od280/od315\", \"proline\"]\n",
    "for col in numeric:\n",
    "    min = df[col].min()\n",
    "    max = df[col].max()\n",
    "    df[col] = (2*(df[col] - min) / (max - min)) -1\n",
    "    \n",
    "#display(df)\n",
    "X = df.loc[:, df.columns != \"class\"]\n",
    "y = df[\"class\"]\n",
    "\n",
    "X_train, X_test, y_train, y_test = train_test_split(X, y, test_size = 0.3)"
   ]
  },
  {
   "cell_type": "code",
   "execution_count": 21,
   "id": "37d7f3f9",
   "metadata": {},
   "outputs": [
    {
     "name": "stdout",
     "output_type": "stream",
     "text": [
      "Best configuration WITH SMOTE:\n",
      "C           1.000000\n",
      "gamma       0.100000\n",
      "accuracy    0.975333\n",
      "Name: 17, dtype: float64\n"
     ]
    }
   ],
   "source": [
    "c = [0.001,0.01,0.1,1,10]\n",
    "gamma = [0.001,0.01,0.1,1,10]\n",
    "\n",
    "scores_smote = pd.DataFrame({'C': [], 'gamma': [], 'accuracy': []})\n",
    "for C in c:\n",
    "    for g in gamma:\n",
    "        acc = []\n",
    "        clf = SVC(kernel='rbf', C = C, gamma = g)\n",
    "        kf = StratifiedKFold(n_splits=5)\n",
    "        for fold, (train_index, val_index) in enumerate(kf.split(X_train, y_train), 1):  \n",
    "            y_train_fold = y_train.iloc[train_index]  \n",
    "            X_train_fold = X_train.iloc[train_index]\n",
    "            X_val_fold = X_train.iloc[val_index]\n",
    "            y_val_fold = y_train.iloc[val_index]  \n",
    "    \n",
    "            sm = SMOTE()\n",
    "            X_train_fold_oversampled, y_train_fold_oversampled = sm.fit_resample(X_train_fold, y_train_fold)\n",
    "  \n",
    "            clf.fit(X_train_fold_oversampled, y_train_fold_oversampled )  \n",
    "            y_pred_fold = clf.predict(X_val_fold)\n",
    "            acc.append(accuracy_score(y_val_fold, y_pred_fold))\n",
    "        scores_smote = scores_smote.append(pd.Series({'C': C, 'gamma': g, 'accuracy': np.mean(acc)}), ignore_index = True)\n",
    "best_config = scores_smote.iloc[scores_smote['accuracy'].idxmax()]\n",
    "print(f\"Best configuration WITH SMOTE:\\n{best_config}\")\n",
    "best_c = best_config['C']\n",
    "best_gamma = best_config['gamma']\n",
    "    "
   ]
  },
  {
   "cell_type": "code",
   "execution_count": 22,
   "id": "722c3e42",
   "metadata": {},
   "outputs": [
    {
     "name": "stdout",
     "output_type": "stream",
     "text": [
      "SVM EVALUATION WITH SMOTE\n",
      "Accuracy 0.962963\n",
      "Precision 0.965168\n",
      "Recall 0.962963\n",
      "F1-Score 0.962606\n"
     ]
    }
   ],
   "source": [
    "best_clf = SVC(kernel='rbf', C=  best_config['C'], gamma = best_config['gamma'])\n",
    "\n",
    "sm = SMOTE()\n",
    "X_train_oversampled, y_train_oversampled = sm.fit_resample(X_train, y_train)\n",
    "best_clf.fit(X_train_oversampled, y_train_oversampled)\n",
    "\n",
    "y_pred = best_clf.predict(X_test)\n",
    "print(\"SVM EVALUATION WITH SMOTE\")\n",
    "print(\"Accuracy %f\"%accuracy_score(y_test, y_pred))\n",
    "print(\"Precision %f\"%precision_score(y_test, y_pred,average=\"weighted\",labels=np.unique(y_pred)))\n",
    "print(\"Recall %f\"%recall_score(y_test, y_pred,average=\"weighted\",labels=np.unique(y_pred)))\n",
    "print(\"F1-Score %f\"%f1_score(y_test, y_pred,average=\"weighted\",labels=np.unique(y_pred)))"
   ]
  },
  {
   "cell_type": "code",
   "execution_count": 23,
   "id": "65ba6ab5",
   "metadata": {},
   "outputs": [
    {
     "name": "stdout",
     "output_type": "stream",
     "text": [
      "Best configuration WITHOUT SMOTE:\n",
      "C           1.000000\n",
      "gamma       0.100000\n",
      "accuracy    0.975333\n",
      "Name: 17, dtype: float64\n"
     ]
    }
   ],
   "source": [
    "c = [0.001,0.01,0.1,1,10]\n",
    "gamma = [0.001,0.01,0.1,1,10]\n",
    "\n",
    "scores = pd.DataFrame({'C': [], 'gamma': [], 'accuracy': []})\n",
    "for C in c:\n",
    "    for g in gamma:\n",
    "        acc = []\n",
    "        clf = SVC(kernel='rbf', C = C, gamma = g)\n",
    "        kf = StratifiedKFold(n_splits=5)\n",
    "        for fold, (train_index, val_index) in enumerate(kf.split(X_train, y_train), 1):  \n",
    "            y_train_fold = y_train.iloc[train_index]  \n",
    "            X_train_fold = X_train.iloc[train_index]\n",
    "            X_val_fold = X_train.iloc[val_index]\n",
    "            y_val_fold = y_train.iloc[val_index]  \n",
    "  \n",
    "            clf.fit(X_train_fold, y_train_fold )  \n",
    "            y_pred_fold = clf.predict(X_val_fold)\n",
    "            acc.append(accuracy_score(y_val_fold, y_pred_fold))\n",
    "        scores = scores.append(pd.Series({'C': C, 'gamma': g, 'accuracy': np.mean(acc)}), ignore_index = True)\n",
    "best_config = scores.iloc[scores['accuracy'].idxmax()]\n",
    "print(f\"Best configuration WITHOUT SMOTE:\\n{best_config}\")\n",
    "best_c = best_config['C']\n",
    "best_gamma = best_config['gamma']"
   ]
  },
  {
   "cell_type": "code",
   "execution_count": 24,
   "id": "8077bb12",
   "metadata": {},
   "outputs": [
    {
     "name": "stdout",
     "output_type": "stream",
     "text": [
      "SVM EVALUATION WITHOUT SMOTE\n",
      "Accuracy 0.981481\n",
      "Precision 0.982804\n",
      "Recall 0.981481\n",
      "F1-Score 0.981599\n"
     ]
    }
   ],
   "source": [
    "best_clf = SVC(kernel='rbf', C=  best_config['C'], gamma = best_config['gamma'])\n",
    "best_clf.fit(X_train, y_train)\n",
    "y_pred = best_clf.predict(X_test)\n",
    "print(\"SVM EVALUATION WITHOUT SMOTE\")\n",
    "print(\"Accuracy %f\"%accuracy_score(y_test, y_pred))\n",
    "print(\"Precision %f\"%precision_score(y_test, y_pred,average=\"weighted\",labels=np.unique(y_pred)))\n",
    "print(\"Recall %f\"%recall_score(y_test, y_pred,average=\"weighted\",labels=np.unique(y_pred)))\n",
    "print(\"F1-Score %f\"%f1_score(y_test, y_pred,average=\"weighted\",labels=np.unique(y_pred)))"
   ]
  }
 ],
 "metadata": {
  "kernelspec": {
   "display_name": "Python 3",
   "language": "python",
   "name": "python3"
  },
  "language_info": {
   "codemirror_mode": {
    "name": "ipython",
    "version": 3
   },
   "file_extension": ".py",
   "mimetype": "text/x-python",
   "name": "python",
   "nbconvert_exporter": "python",
   "pygments_lexer": "ipython3",
   "version": "3.9.4"
  }
 },
 "nbformat": 4,
 "nbformat_minor": 5
}
