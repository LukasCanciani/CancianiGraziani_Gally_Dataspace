{
 "cells": [
  {
   "cell_type": "code",
   "execution_count": null,
   "id": "680c1ecf",
   "metadata": {},
   "outputs": [],
   "source": [
    "import numpy as np\n",
    "import pandas as pd\n",
    "\n",
    "from sklearn.svm import SVC\n",
    "from sklearn.model_selection import StratifiedKFold, GridSearchCV\n",
    "from sklearn.metrics import f1_score, precision_score, recall_score\n",
    "\n",
    "from imblearn.over_sampling import SMOTE"
   ]
  },
  {
   "cell_type": "code",
   "execution_count": null,
   "id": "5037f9ab",
   "metadata": {},
   "outputs": [],
   "source": [
    "df = pd.read_csv(\"wine.csv\", delimiter=\";\")\n",
    "display(df)\n",
    "del df[\"ash\"]\n",
    "#Norm\n",
    "\n",
    "numeric = [\"alcohol\", \"malic acid\",\"alcalinity\",\"magnesium\",\"total phenols\",\"flavanoids\",\"nonflavanoid phenols\",\"proanthocyanins\", \"color intensity\", \"hue\", \"od280/od315\", \"proline\"]\n",
    "for col in numeric:\n",
    "    min = df[col].min()\n",
    "    max = df[col].max()\n",
    "    df[col] = (2*(df[col] - min) / (max - min)) -1\n",
    "    \n",
    "display(df)"
   ]
  },
  {
   "cell_type": "code",
   "execution_count": null,
   "id": "722c3e42",
   "metadata": {},
   "outputs": [],
   "source": [
    "X = df.loc[:, df.columns != \"class\"]\n",
    "y = df[\"class\"]\n",
    "\n",
    "param_grid = {'C': [0.001,0.01,0.1,1,10], 'gamma' : [0.001,0.01,0.1,1,10]}\n",
    "\n",
    "gs = GridSearchCV(SVC(kernel='rbf'), param_grid)\n",
    "\n",
    "gs.fit(X,y)\n",
    "model = gs.best_estimator_\n",
    "print(model.get_params())"
   ]
  },
  {
   "cell_type": "code",
   "execution_count": null,
   "id": "65ba6ab5",
   "metadata": {},
   "outputs": [],
   "source": [
    "kf = StratifiedKFold(n_splits=5)\n",
    "acc = []\n",
    "prec =[]\n",
    "rec = []\n",
    "f1 = []\n",
    "for fold, (train_index, test_index) in enumerate(kf.split(X, y), 1):  \n",
    "    y_train = y[train_index]  # Based on your code, you might need a ravel call here, but I would look into how you're generating your y\n",
    "    X_train = X.iloc[train_index]\n",
    "    X_test = X.iloc[test_index]\n",
    "    y_test = y[test_index]  # See comment on ravel and  y_train\n",
    "    model.fit(X_train, y_train )  \n",
    "    y_pred = model.predict(X_test)\n",
    "   \n",
    "    acc.append(model.score(X_test, y_test))\n",
    "    prec.append(precision_score(y_test, y_pred,average=\"weighted\",labels=np.unique(y_pred)))\n",
    "    rec.append(recall_score(y_test, y_pred,average=\"weighted\",labels=np.unique(y_pred)))\n",
    "    f1.append(f1_score(y_test, y_pred,average=\"weighted\",labels=np.unique(y_pred)))\n",
    "    \n",
    "print(\"Average scores for 5 fold CV - Without SMOTE\")\n",
    "print(\"Accuracy: \" + str(np.mean(acc).round(3)))\n",
    "print(\"Weighted Precision: \" + str(np.mean(prec).round(3)))\n",
    "print(\"Weighted Recall:    \" + str(np.mean(rec).round(3)))\n",
    "print(\"Weighted F1-Score:  \" + str(np.mean(f1).round(3)))"
   ]
  },
  {
   "cell_type": "code",
   "execution_count": null,
   "id": "8077bb12",
   "metadata": {},
   "outputs": [],
   "source": [
    "kf = StratifiedKFold(n_splits=5)\n",
    "acc = []\n",
    "prec =[]\n",
    "rec = []\n",
    "f1 = []\n",
    "for fold, (train_index, test_index) in enumerate(kf.split(X, y), 1):  \n",
    "    y_train = y[train_index]  # Based on your code, you might need a ravel call here, but I would look into how you're generating your y\n",
    "    X_train = X.iloc[train_index]\n",
    "    X_test = X.iloc[test_index]\n",
    "    y_test = y[test_index]  # See comment on ravel and  y_train\n",
    "    \n",
    "    sm = SMOTE()\n",
    "    X_train_oversampled, y_train_oversampled = sm.fit_resample(X_train, y_train)\n",
    "  \n",
    "    model.fit(X_train_oversampled, y_train_oversampled )  \n",
    "    y_pred = model.predict(X_test)\n",
    "   \n",
    "    acc.append(model.score(X_test, y_test))\n",
    "    prec.append(precision_score(y_test, y_pred,average=\"weighted\",labels=np.unique(y_pred)))\n",
    "    rec.append(recall_score(y_test, y_pred,average=\"weighted\",labels=np.unique(y_pred)))\n",
    "    f1.append(f1_score(y_test, y_pred,average=\"weighted\",labels=np.unique(y_pred)))\n",
    "    \n",
    "print(\"Average scores for 5 fold CV - With SMOTE\")\n",
    "print(\"Accuracy: \" + str(np.mean(acc).round(3)))\n",
    "print(\"Weighted Precision: \" + str(np.mean(prec).round(3)))\n",
    "print(\"Weighted Recall:    \" + str(np.mean(rec).round(3)))\n",
    "print(\"Weighted F1-Score:  \" + str(np.mean(f1).round(3)))"
   ]
  },
  {
   "cell_type": "code",
   "execution_count": null,
   "id": "e0f6f251",
   "metadata": {},
   "outputs": [],
   "source": []
  }
 ],
 "metadata": {
  "kernelspec": {
   "display_name": "Python 3",
   "language": "python",
   "name": "python3"
  },
  "language_info": {
   "codemirror_mode": {
    "name": "ipython",
    "version": 3
   },
   "file_extension": ".py",
   "mimetype": "text/x-python",
   "name": "python",
   "nbconvert_exporter": "python",
   "pygments_lexer": "ipython3",
   "version": "3.9.4"
  }
 },
 "nbformat": 4,
 "nbformat_minor": 5
}
