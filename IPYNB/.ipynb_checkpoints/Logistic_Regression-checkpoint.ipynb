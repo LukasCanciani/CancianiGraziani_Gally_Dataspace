{
 "cells": [
  {
   "cell_type": "code",
   "execution_count": null,
   "id": "sorted-transcription",
   "metadata": {},
   "outputs": [],
   "source": [
    "import pandas as pd\n",
    "import numpy as np\n",
    "\n",
    "from sklearn.linear_model import LogisticRegression\n",
    "from sklearn.model_selection import StratifiedKFold, GridSearchCV\n",
    "from sklearn.metrics import f1_score, precision_score, recall_score\n",
    "\n",
    "from imblearn.over_sampling import SMOTE"
   ]
  },
  {
   "cell_type": "code",
   "execution_count": null,
   "id": "hollow-armor",
   "metadata": {},
   "outputs": [],
   "source": [
    "data = pd.read_csv(\"wine.csv\", delimiter=\";\")\n",
    "del data[\"ash\"]\n",
    "display(data)\n",
    "print(f\"the column where at least a column is null are: {sum(data.isnull().sum())}\")\n",
    "print(f\"the shape of the dataset is the following: {data.shape}\")"
   ]
  },
  {
   "cell_type": "code",
   "execution_count": null,
   "id": "forward-investor",
   "metadata": {},
   "outputs": [],
   "source": [
    "X = data.iloc[:, data.columns != \"class\"]\n",
    "y = data[\"class\"]\n",
    "names = data.columns\n",
    "X = data.drop([\"class\"], axis= 1).astype(float)\n",
    "#Analisi rateo x classe\n",
    "classes = np.unique(y)\n",
    "for c in classes: \n",
    "    total = len(y[y==c])\n",
    "    ratio = (total / float(len(y))) * 100\n",
    "    print(\"Class %s : %d (%.3f%%)\" % (str(c), total, ratio))"
   ]
  },
  {
   "cell_type": "code",
   "execution_count": null,
   "id": "numerous-horror",
   "metadata": {},
   "outputs": [],
   "source": [
    "grid_params = {\n",
    "    'C': [1,2,3,4,5,6,7,8,9,10],\n",
    "    'solver': ['newton-cg','liblinear','saga','sag'],\n",
    "}\n",
    "\n",
    "gs = GridSearchCV(\n",
    "    LogisticRegression(),\n",
    "    grid_params,\n",
    ")\n",
    "\n",
    "gs.fit(X,y)\n",
    "model = gs.best_estimator_\n",
    "print(model.get_params())"
   ]
  },
  {
   "cell_type": "code",
   "execution_count": null,
   "id": "defensive-implementation",
   "metadata": {},
   "outputs": [],
   "source": [
    "kf = StratifiedKFold(n_splits=5)\n",
    "acc = []\n",
    "prec =[]\n",
    "rec = []\n",
    "f1 = []\n",
    "for fold, (train_index, test_index) in enumerate(kf.split(X, y), 1):  \n",
    "    y_train = y[train_index]  \n",
    "    X_train = X.iloc[train_index]\n",
    "    X_test = X.iloc[test_index]\n",
    "    y_test = y[test_index]  \n",
    "    model.fit(X_train, y_train )  \n",
    "    y_pred = model.predict(X_test)\n",
    "   \n",
    "    acc.append(model.score(X_test, y_test))\n",
    "    prec.append(precision_score(y_test, y_pred,average=\"weighted\",labels=np.unique(y_pred)))\n",
    "    rec.append(recall_score(y_test, y_pred,average=\"weighted\",labels=np.unique(y_pred)))\n",
    "    f1.append(f1_score(y_test, y_pred,average=\"weighted\",labels=np.unique(y_pred)))\n",
    "    \n",
    "print(\"Average scores for 5 fold CV - Without SMOTE\")\n",
    "print(\"Accuracy: \" + str(np.mean(acc).round(3)))\n",
    "print(\"Weighted Precision: \" + str(np.mean(prec).round(3)))\n",
    "print(\"Weighted Recall:    \" + str(np.mean(rec).round(3)))\n",
    "print(\"Weighted F1-Score:  \" + str(np.mean(f1).round(3)))"
   ]
  },
  {
   "cell_type": "code",
   "execution_count": null,
   "id": "ceramic-particular",
   "metadata": {},
   "outputs": [],
   "source": [
    "kf = StratifiedKFold(n_splits=5)\n",
    "acc = []\n",
    "prec =[]\n",
    "rec = []\n",
    "f1 = []\n",
    "for fold, (train_index, test_index) in enumerate(kf.split(X, y), 1):  \n",
    "    y_train = y[train_index]  \n",
    "    X_train = X.iloc[train_index]\n",
    "    X_test = X.iloc[test_index]\n",
    "    y_test = y[test_index]  \n",
    "    \n",
    "    sm = SMOTE()\n",
    "    X_train_oversampled, y_train_oversampled = sm.fit_resample(X_train, y_train)\n",
    "  \n",
    "    model.fit(X_train_oversampled, y_train_oversampled )  \n",
    "    y_pred = model.predict(X_test)\n",
    "   \n",
    "    acc.append(model.score(X_test, y_test))\n",
    "    prec.append(precision_score(y_test, y_pred,average=\"weighted\",labels=np.unique(y_pred)))\n",
    "    rec.append(recall_score(y_test, y_pred,average=\"weighted\",labels=np.unique(y_pred)))\n",
    "    f1.append(f1_score(y_test, y_pred,average=\"weighted\",labels=np.unique(y_pred)))\n",
    "    \n",
    "print(\"Average scores for 5 fold CV - With SMOTE\")\n",
    "print(\"Accuracy: \" + str(np.mean(acc).round(3)))\n",
    "print(\"Weighted Precision: \" + str(np.mean(prec).round(3)))\n",
    "print(\"Weighted Recall:    \" + str(np.mean(rec).round(3)))\n",
    "print(\"Weighted F1-Score:  \" + str(np.mean(f1).round(3)))"
   ]
  }
 ],
 "metadata": {
  "kernelspec": {
   "display_name": "Python 3",
   "language": "python",
   "name": "python3"
  },
  "language_info": {
   "codemirror_mode": {
    "name": "ipython",
    "version": 3
   },
   "file_extension": ".py",
   "mimetype": "text/x-python",
   "name": "python",
   "nbconvert_exporter": "python",
   "pygments_lexer": "ipython3",
   "version": "3.9.4"
  }
 },
 "nbformat": 4,
 "nbformat_minor": 5
}
