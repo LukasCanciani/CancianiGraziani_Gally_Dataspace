{
 "cells": [
  {
   "cell_type": "code",
   "execution_count": null,
   "id": "abd04bdc",
   "metadata": {},
   "outputs": [],
   "source": [
    "import numpy as np\n",
    "import pandas as pd\n",
    "\n",
    "from sklearn.naive_bayes import GaussianNB\n",
    "from sklearn.model_selection import StratifiedKFold, train_test_split\n",
    "from sklearn.metrics import f1_score, precision_score, recall_score, accuracy_score\n",
    "\n",
    "from imblearn.over_sampling import SMOTE"
   ]
  },
  {
   "cell_type": "code",
   "execution_count": null,
   "id": "629a77aa",
   "metadata": {},
   "outputs": [],
   "source": [
    "df = pd.read_csv(\"wine.csv\", delimiter=\";\")\n",
    "del df[\"ash\"]\n",
    "X = df.loc[:, df.columns != \"class\"]\n",
    "y = df[\"class\"]\n",
    "\n",
    "\n",
    "X_train, X_test, y_train, y_test = train_test_split(X, y, test_size = 0.3, random_state = 1)"
   ]
  },
  {
   "cell_type": "code",
   "execution_count": null,
   "id": "07360e25",
   "metadata": {
    "scrolled": true
   },
   "outputs": [],
   "source": [
    "best_clf = GaussianNB\n",
    "\n",
    "sm = SMOTE()\n",
    "X_train_oversampled, y_train_oversampled = sm.fit_resample(X_train, y_train)\n",
    "best_clf.fit(X_train_oversampled, y_train_oversampled)\n",
    "\n",
    "y_pred = best_clf.predict(X_test)\n",
    "print(\"NB EVALUATION WITH SMOTE\")\n",
    "print(\"Accuracy %f\"%best_clf.score(X_test, y_test))\n",
    "print(\"Precision %f\"%precision_score(y_test, y_pred,average=\"weighted\",labels=np.unique(y_pred)))\n",
    "print(\"Recall %f\"%recall_score(y_test, y_pred,average=\"weighted\",labels=np.unique(y_pred)))\n",
    "print(\"F1-Score %f\"%f1_score(y_test, y_pred,average=\"weighted\",labels=np.unique(y_pred)))"
   ]
  },
  {
   "cell_type": "code",
   "execution_count": null,
   "id": "05d09861",
   "metadata": {},
   "outputs": [],
   "source": [
    "best_clf = G\n",
    "best_clf.fit(X_train, y_train)\n",
    "y_pred = best_clf.predict(X_test)\n",
    "print(\"KNN EVALUATION WITHOUT SMOTE\")\n",
    "print(\"Accuracy %f\"%accuracy_score(y_test, y_pred))\n",
    "print(\"Precision %f\"%precision_score(y_test, y_pred,average=\"weighted\",labels=np.unique(y_pred)))\n",
    "print(\"Recall %f\"%recall_score(y_test, y_pred,average=\"weighted\",labels=np.unique(y_pred)))\n",
    "print(\"F1-Score %f\"%f1_score(y_test, y_pred,average=\"weighted\",labels=np.unique(y_pred)))"
   ]
  }
 ],
 "metadata": {
  "kernelspec": {
   "display_name": "Python 3",
   "language": "python",
   "name": "python3"
  },
  "language_info": {
   "codemirror_mode": {
    "name": "ipython",
    "version": 3
   },
   "file_extension": ".py",
   "mimetype": "text/x-python",
   "name": "python",
   "nbconvert_exporter": "python",
   "pygments_lexer": "ipython3",
   "version": "3.9.4"
  }
 },
 "nbformat": 4,
 "nbformat_minor": 5
}
