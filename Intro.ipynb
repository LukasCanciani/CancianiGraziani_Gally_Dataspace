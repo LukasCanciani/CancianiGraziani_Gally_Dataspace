{
 "cells": [
  {
   "cell_type": "code",
   "execution_count": null,
   "id": "documented-province",
   "metadata": {},
   "outputs": [],
   "source": [
    "import numpy as np\n",
    "import pandas as pd\n",
    "import seaborn as sns\n",
    "from matplotlib import pyplot as plt\n",
    "\n",
    "from sklearn.feature_selection import chi2, SelectKBest\n",
    "from sklearn.ensemble import RandomForestClassifier\n",
    "df = pd.read_csv(\"wine.csv\", delimiter=\";\")"
   ]
  },
  {
   "cell_type": "code",
   "execution_count": null,
   "id": "broadband-baker",
   "metadata": {},
   "outputs": [],
   "source": [
    "display(df)\n",
    "print(f\"the column where at least a column is null are: {sum(df.isnull().sum())}\")\n",
    "print(f\"the shape of the dataset is the following: {df.shape}\")\n",
    "count = df.isnull().sum()\n",
    "print(\"\\nMissing values per column\")\n",
    "print(count.to_string())"
   ]
  },
  {
   "cell_type": "code",
   "execution_count": null,
   "id": "strong-chemical",
   "metadata": {},
   "outputs": [],
   "source": [
    "df.info()"
   ]
  },
  {
   "cell_type": "code",
   "execution_count": null,
   "id": "exceptional-graph",
   "metadata": {
    "scrolled": true
   },
   "outputs": [],
   "source": [
    "df.describe()"
   ]
  },
  {
   "cell_type": "code",
   "execution_count": null,
   "id": "seventh-washington",
   "metadata": {},
   "outputs": [],
   "source": [
    "fig, axs = plt.subplots(nrows=4, ncols=4, figsize=(40,40), dpi=120)\n",
    "for ind, feature in enumerate(df.keys()[1:]):\n",
    "    row = ind/4\n",
    "    column = ind%4\n",
    "    fig = sns.violinplot(data=df, y=feature,\n",
    "        ax=axs[int(row)][column],\n",
    "    x='class').set_title(feature)\n",
    "    axs[int(row)][column].set_xlabel(\"\")\n",
    "    axs[int(row)][column].set_ylabel(\"\")\n",
    "plt.show()"
   ]
  },
  {
   "cell_type": "code",
   "execution_count": null,
   "id": "rough-devices",
   "metadata": {},
   "outputs": [],
   "source": [
    "sns.jointplot(data=df, x=\"class\", y=\"flavanoids\", color=\"blue\", kind=\"kde\")\n",
    "sns.jointplot(data=df, x=\"class\", y=\"ash\", color=\"red\", kind=\"kde\")"
   ]
  },
  {
   "cell_type": "code",
   "execution_count": null,
   "id": "broadband-device",
   "metadata": {},
   "outputs": [],
   "source": [
    "corrmat = df.corr()\n",
    "top_corr_feat = corrmat.index\n",
    "plt.figure(figsize=(20,20))\n",
    "g= sns.heatmap(df[top_corr_feat].corr(), annot=True,cmap=\"RdYlGn\")"
   ]
  },
  {
   "cell_type": "code",
   "execution_count": null,
   "id": "contrary-universal",
   "metadata": {},
   "outputs": [],
   "source": [
    "X = df.loc[:, df.columns != \"class\"]\n",
    "y = df[\"class\"]\n",
    "bestfeatures = SelectKBest(score_func=chi2, k=4)\n",
    "fit = bestfeatures.fit(X,y)\n",
    "dfscores = pd.DataFrame(fit.scores_)\n",
    "dfcol= pd.DataFrame(X.columns)\n",
    "featureScores = pd.concat([dfcol,dfscores],axis=1)\n",
    "featureScores.columns = ['Feature','Chi2-Score']\n",
    "print(featureScores.nlargest(13,'Chi2-Score'))"
   ]
  },
  {
   "cell_type": "code",
   "execution_count": null,
   "id": "better-packaging",
   "metadata": {},
   "outputs": [],
   "source": [
    "model = RandomForestClassifier()\n",
    "model.fit(X,y)\n",
    "print(model.feature_importances_)\n",
    "feat_imp=pd.Series(model.feature_importances_, index=X.columns)\n",
    "feat_imp.nlargest(13).plot(kind='barh')\n",
    "plt.show()"
   ]
  },
  {
   "cell_type": "code",
   "execution_count": null,
   "id": "sunset-seventh",
   "metadata": {},
   "outputs": [],
   "source": []
  }
 ],
 "metadata": {
  "kernelspec": {
   "display_name": "Python 3",
   "language": "python",
   "name": "python3"
  },
  "language_info": {
   "codemirror_mode": {
    "name": "ipython",
    "version": 3
   },
   "file_extension": ".py",
   "mimetype": "text/x-python",
   "name": "python",
   "nbconvert_exporter": "python",
   "pygments_lexer": "ipython3",
   "version": "3.9.4"
  }
 },
 "nbformat": 4,
 "nbformat_minor": 5
}
